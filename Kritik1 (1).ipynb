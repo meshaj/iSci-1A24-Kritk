{
 "cells": [
  {
   "cell_type": "code",
   "execution_count": null,
   "id": "7305860e-0f2a-4570-9c79-374e02275e20",
   "metadata": {},
   "outputs": [],
   "source": [
    "def mcmaster(x):\n",
    "    # Initializing variables\n",
    "    n = 0\n",
    "    a = 0\n",
    "    error_bound = (x ** (2 * (n + 1))) / (2 * n + 1)\n",
    "\n",
    "    # Checking if x is within the range [0, 1]\n",
    "    if 0 <= x <= 1:\n",
    "        # Running a loop until the error bound is less than 0.0001\n",
    "        while error_bound > 0.0001:\n",
    "            n += 1\n",
    "            error_bound = (x ** (2 * n + 1)) / (2 * n + 1)\n",
    "            # Computing the approximation using Maclaurin series\n",
    "            for i in range(0, n):\n",
    "                a += ((-1) ** i * x ** (2 * i + 1)) / (2 * i + 1)\n",
    "        \n",
    "        # Calculating the number of terms, other_n\n",
    "        other_n = 2 * n + 1\n",
    "        return a, other_n, error_bound\n",
    "    else:\n",
    "        print(\"Error! x should be within the range [0, 1]\")\n",
    "\n",
    "# Example usage\n",
    "x_value = 0.5\n",
    "approximation, num_terms, error = mcmaster(x_value)\n",
    "print(\"Approximation:\", approximation)\n",
    "print(\"Number of terms used:\", num_terms)\n",
    "print(\"Error bound:\", error)\n"
   ]
  }
 ],
 "metadata": {
  "kernelspec": {
   "display_name": "Python 3 (ipykernel)",
   "language": "python",
   "name": "python3"
  },
  "language_info": {
   "codemirror_mode": {
    "name": "ipython",
    "version": 3
   },
   "file_extension": ".py",
   "mimetype": "text/x-python",
   "name": "python",
   "nbconvert_exporter": "python",
   "pygments_lexer": "ipython3",
   "version": "3.11.7"
  }
 },
 "nbformat": 4,
 "nbformat_minor": 5
}
