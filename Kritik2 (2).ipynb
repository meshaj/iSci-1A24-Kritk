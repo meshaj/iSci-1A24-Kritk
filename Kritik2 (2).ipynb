{
 "cells": [
  {
   "cell_type": "code",
   "execution_count": 3,
   "id": "9e01c4c0-f34d-42c2-8aaa-a9307baab531",
   "metadata": {},
   "outputs": [
    {
     "name": "stdout",
     "output_type": "stream",
     "text": [
      "The root is approximately: 3.1415926536\n"
     ]
    }
   ],
   "source": [
    "import math\n",
    "\n",
    "def silly(f, a, b):\n",
    "    if a > b:\n",
    "        print(\"Invalid input: a should be less than b\")\n",
    "        return None\n",
    "    if f(a) * f(b) > 0:\n",
    "        print(\"Bisection method fails: f(a) and f(b) should have opposite signs\")\n",
    "        return None\n",
    "    \n",
    "    a_n = a\n",
    "    b_n = b\n",
    "    decimals = 1e-10\n",
    "    \n",
    "    if abs(f(a)) < decimals:\n",
    "        return round(a_n, 10)\n",
    "    elif abs(f(b)) < decimals:\n",
    "        return round(b_n, 10)\n",
    "    \n",
    "    while (b_n - a_n) >= decimals:\n",
    "        m_n = (a_n + b_n) / 2\n",
    "        if f(m_n) == 0:\n",
    "            return round(m_n, 10)\n",
    "        elif f(m_n) * f(a_n) < 0:\n",
    "            b_n = m_n\n",
    "        else:\n",
    "            a_n = m_n\n",
    "    \n",
    "    return round(m_n, 10)\n",
    "\n",
    "import numpy as np\n",
    "\n",
    "def f(x):\n",
    "    return np.sin(x) / np.log(x)  # Using numpy functions for sin and log\n",
    "\n",
    "a = 3\n",
    "b = 4\n",
    "\n",
    "root = silly(f, a, b)\n",
    "if root is not None:\n",
    "    print(\"The root is approximately:\", root)\n"
   ]
  }
 ],
 "metadata": {
  "kernelspec": {
   "display_name": "Python 3 (ipykernel)",
   "language": "python",
   "name": "python3"
  },
  "language_info": {
   "codemirror_mode": {
    "name": "ipython",
    "version": 3
   },
   "file_extension": ".py",
   "mimetype": "text/x-python",
   "name": "python",
   "nbconvert_exporter": "python",
   "pygments_lexer": "ipython3",
   "version": "3.11.7"
  }
 },
 "nbformat": 4,
 "nbformat_minor": 5
}
