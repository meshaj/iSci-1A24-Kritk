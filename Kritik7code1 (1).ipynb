{
 "cells": [
  {
   "cell_type": "code",
   "execution_count": 11,
   "id": "00513bd4-bf13-46df-a300-8c4a1d75c0b8",
   "metadata": {
    "tags": []
   },
   "outputs": [
    {
     "name": "stdout",
     "output_type": "stream",
     "text": [
      "The null hypothesis is unsupported - false\n"
     ]
    }
   ],
   "source": [
    "import numpy as np \n",
    "from scipy.stats import t as t_distribution\n",
    "\n",
    "def calculate_t(sample_mean, null_mean, sample_std_dev, sample_size):\n",
    "    \n",
    "    numerator = sample_mean - null_mean\n",
    "    denominator = sample_std_dev / np.sqrt(sample_size)\n",
    "    t_value = numerator / denominator\n",
    "    return t_value\n",
    "\n",
    "def find_critical_value(alpha, degrees_of_freedom):\n",
    "    critical_value = t_distribution.ppf(1 - alpha/2, degrees_of_freedom)\n",
    "    return critical_value\n",
    "\n",
    "def perform_test(scores, null_hypothesis):\n",
    "    sample_mean = np.mean(scores)\n",
    "    sample_std_dev = np.std(scores, ddof=1)\n",
    "    sample_size = len(scores)\n",
    "    \n",
    "    t_value = calculate_t(sample_mean, null_hypothesis, sample_std_dev, sample_size)\n",
    "    degrees_of_freedom = sample_size - 1\n",
    "    critical_value = find_critical_value(0.05, degrees_of_freedom)\n",
    "    \n",
    "    if -1 * critical_value < t_value < critical_value:\n",
    "        print(\"The null hypothesis is supported - true\")\n",
    "    else: \n",
    "        print(\"The null hypothesis is unsupported - false\")\n",
    "\n",
    "def main():\n",
    "    scores = [92.64, 79.00, 84.79, 97.41, 93.68, 65.23, 84.50, 73.49, 73.97, 79.111]\n",
    "    null_hypothesis = 75\n",
    "    \n",
    "    perform_test(scores, null_hypothesis)\n",
    "\n",
    "if __name__ == \"__main__\":\n",
    "    main()\n"
   ]
  },
  {
   "cell_type": "code",
   "execution_count": null,
   "id": "64115114-07af-4482-8f44-aa408f64bdca",
   "metadata": {},
   "outputs": [],
   "source": []
  }
 ],
 "metadata": {
  "kernelspec": {
   "display_name": "Python 3 (ipykernel)",
   "language": "python",
   "name": "python3"
  },
  "language_info": {
   "codemirror_mode": {
    "name": "ipython",
    "version": 3
   },
   "file_extension": ".py",
   "mimetype": "text/x-python",
   "name": "python",
   "nbconvert_exporter": "python",
   "pygments_lexer": "ipython3",
   "version": "3.11.5"
  }
 },
 "nbformat": 4,
 "nbformat_minor": 5
}
