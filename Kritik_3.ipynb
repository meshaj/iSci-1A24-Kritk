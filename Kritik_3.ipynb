{
 "cells": [
  {
   "cell_type": "code",
   "execution_count": null,
   "id": "22ba4409-91f0-486c-b00a-7fbb93cb00f6",
   "metadata": {},
   "outputs": [],
   "source": [
    "import numpy as np\n",
    "import math\n",
    "\n",
    "def g(x):\n",
    "    return x ** 2\n",
    "\n",
    "C = 1\n",
    "E = 0.01\n",
    "X1 = C\n",
    "X2 = C\n",
    "delx = 10 ** (-8)\n",
    "d = 0.001\n",
    "\n",
    "def g_prime(x):\n",
    "    return (g(x + delx) - g(x - delx)) / (2 * delx)\n",
    "\n",
    "for i in range(100):\n",
    "    x1 = X1 - g(X1) / g_prime(X1)\n",
    "    if abs(g(x1) - g(X1)) >= E:\n",
    "        print(\"Root x1:\", x1)\n",
    "        break\n",
    "    else:\n",
    "        print(\"No such x1 can be found\")\n",
    "\n",
    "for j in range(100):\n",
    "    X2 += d\n",
    "    x2 = X2 - g(X2) / g_prime(X2)\n",
    "    if abs(g(x2) - g(X2)) >= E:\n",
    "        print(\"Root x2:\", x2)\n",
    "        break\n",
    "    else:\n",
    "        print(\"No such x2 can be found\")\n"
   ]
  }
 ],
 "metadata": {
  "kernelspec": {
   "display_name": "Python 3 (ipykernel)",
   "language": "python",
   "name": "python3"
  },
  "language_info": {
   "codemirror_mode": {
    "name": "ipython",
    "version": 3
   },
   "file_extension": ".py",
   "mimetype": "text/x-python",
   "name": "python",
   "nbconvert_exporter": "python",
   "pygments_lexer": "ipython3",
   "version": "3.11.7"
  }
 },
 "nbformat": 4,
 "nbformat_minor": 5
}
